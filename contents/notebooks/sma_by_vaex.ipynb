{
 "cells": [
  {
   "cell_type": "markdown",
   "metadata": {},
   "source": [
    "どりらんです。この記事は[fintalk Advent Calendar 2019](https://adventar.org/calendars/4331)の11日目です。  \n",
    "ここのボスになんか書けと言われたので書きました。\n",
    "\n",
    "## Vaexとは\n",
    "\n",
    "pandasのようなテーブルデータ（DataFrame）を扱うライブラリです。Out-of-Core（メモリにのらない大きなデータ）を遅延処理で計算できるのが特徴です。\n",
    "\n",
    "[pandasの1000倍速い](https://towardsdatascience.com/vaex-a-dataframe-with-super-strings-789b92e8d861)と言われており、シャア少佐もびっくりです。気になったのでちょろっと試してみました。金融ネタということで、今回は移動平均を算出してみます。\n",
    "\n",
    "## インストールなど\n",
    "\n",
    "[公式ドキュメント](https://vaex.readthedocs.io/en/latest/index.html)に書いてあるので割愛します。\n",
    "\n",
    "## サンプルデータ\n",
    "\n",
    "時系列データを用意するのが大変なので、今回は乱数で代用します。"
   ]
  },
  {
   "cell_type": "code",
   "execution_count": 1,
   "metadata": {},
   "outputs": [],
   "source": [
    "import numpy as np\n",
    "import pandas as pd\n",
    "import vaex\n",
    "\n",
    "t = np.arange(\"1900-01-01\", \"2019-12-25\", dtype=np.datetime64)\n",
    "y = np.random.rand(len(t))"
   ]
  },
  {
   "cell_type": "markdown",
   "metadata": {},
   "source": [
    "比較用にpandasのDataFrameを作成します。"
   ]
  },
  {
   "cell_type": "code",
   "execution_count": 2,
   "metadata": {},
   "outputs": [
    {
     "data": {
      "text/html": [
       "<div>\n",
       "<style scoped>\n",
       "    .dataframe tbody tr th:only-of-type {\n",
       "        vertical-align: middle;\n",
       "    }\n",
       "\n",
       "    .dataframe tbody tr th {\n",
       "        vertical-align: top;\n",
       "    }\n",
       "\n",
       "    .dataframe thead th {\n",
       "        text-align: right;\n",
       "    }\n",
       "</style>\n",
       "<table border=\"1\" class=\"dataframe\">\n",
       "  <thead>\n",
       "    <tr style=\"text-align: right;\">\n",
       "      <th></th>\n",
       "      <th>t</th>\n",
       "      <th>y</th>\n",
       "    </tr>\n",
       "  </thead>\n",
       "  <tbody>\n",
       "    <tr>\n",
       "      <th>0</th>\n",
       "      <td>1900-01-01</td>\n",
       "      <td>0.432008</td>\n",
       "    </tr>\n",
       "    <tr>\n",
       "      <th>1</th>\n",
       "      <td>1900-01-02</td>\n",
       "      <td>0.028274</td>\n",
       "    </tr>\n",
       "    <tr>\n",
       "      <th>2</th>\n",
       "      <td>1900-01-03</td>\n",
       "      <td>0.590348</td>\n",
       "    </tr>\n",
       "    <tr>\n",
       "      <th>3</th>\n",
       "      <td>1900-01-04</td>\n",
       "      <td>0.294353</td>\n",
       "    </tr>\n",
       "    <tr>\n",
       "      <th>4</th>\n",
       "      <td>1900-01-05</td>\n",
       "      <td>0.554144</td>\n",
       "    </tr>\n",
       "  </tbody>\n",
       "</table>\n",
       "</div>"
      ],
      "text/plain": [
       "           t         y\n",
       "0 1900-01-01  0.432008\n",
       "1 1900-01-02  0.028274\n",
       "2 1900-01-03  0.590348\n",
       "3 1900-01-04  0.294353\n",
       "4 1900-01-05  0.554144"
      ]
     },
     "execution_count": 2,
     "metadata": {},
     "output_type": "execute_result"
    }
   ],
   "source": [
    "df_pd = pd.DataFrame({\"t\": t, \"y\": y})\n",
    "df_pd.head()"
   ]
  },
  {
   "cell_type": "markdown",
   "metadata": {},
   "source": [
    "Vaexでは引数自体がカラム名となり、データを渡す形式のようです。"
   ]
  },
  {
   "cell_type": "code",
   "execution_count": 3,
   "metadata": {},
   "outputs": [
    {
     "data": {
      "text/html": [
       "<table>\n",
       "<thead>\n",
       "<tr><th>#                            </th><th>t         </th><th style=\"text-align: right;\">        y</th></tr>\n",
       "</thead>\n",
       "<tbody>\n",
       "<tr><td><i style='opacity: 0.6'>0</i></td><td>1900-01-01</td><td style=\"text-align: right;\">0.432008 </td></tr>\n",
       "<tr><td><i style='opacity: 0.6'>1</i></td><td>1900-01-02</td><td style=\"text-align: right;\">0.0282736</td></tr>\n",
       "<tr><td><i style='opacity: 0.6'>2</i></td><td>1900-01-03</td><td style=\"text-align: right;\">0.590348 </td></tr>\n",
       "<tr><td><i style='opacity: 0.6'>3</i></td><td>1900-01-04</td><td style=\"text-align: right;\">0.294353 </td></tr>\n",
       "<tr><td><i style='opacity: 0.6'>4</i></td><td>1900-01-05</td><td style=\"text-align: right;\">0.554144 </td></tr>\n",
       "<tr><td><i style='opacity: 0.6'>5</i></td><td>1900-01-06</td><td style=\"text-align: right;\">0.0938365</td></tr>\n",
       "<tr><td><i style='opacity: 0.6'>6</i></td><td>1900-01-07</td><td style=\"text-align: right;\">0.701837 </td></tr>\n",
       "<tr><td><i style='opacity: 0.6'>7</i></td><td>1900-01-08</td><td style=\"text-align: right;\">0.484192 </td></tr>\n",
       "<tr><td><i style='opacity: 0.6'>8</i></td><td>1900-01-09</td><td style=\"text-align: right;\">0.874886 </td></tr>\n",
       "<tr><td><i style='opacity: 0.6'>9</i></td><td>1900-01-10</td><td style=\"text-align: right;\">0.480992 </td></tr>\n",
       "</tbody>\n",
       "</table>"
      ],
      "text/plain": [
       "  #  t                   y\n",
       "  0  1900-01-01  0.432008\n",
       "  1  1900-01-02  0.0282736\n",
       "  2  1900-01-03  0.590348\n",
       "  3  1900-01-04  0.294353\n",
       "  4  1900-01-05  0.554144\n",
       "  5  1900-01-06  0.0938365\n",
       "  6  1900-01-07  0.701837\n",
       "  7  1900-01-08  0.484192\n",
       "  8  1900-01-09  0.874886\n",
       "  9  1900-01-10  0.480992"
      ]
     },
     "execution_count": 3,
     "metadata": {},
     "output_type": "execute_result"
    }
   ],
   "source": [
    "df_vaex = vaex.from_arrays(t=t, y=y)\n",
    "df_vaex.head()"
   ]
  },
  {
   "cell_type": "markdown",
   "metadata": {},
   "source": [
    "まずは、pandasで5日間の移動平均を算出してみます。"
   ]
  },
  {
   "cell_type": "code",
   "execution_count": 4,
   "metadata": {},
   "outputs": [
    {
     "name": "stdout",
     "output_type": "stream",
     "text": [
      "1.37 ms ± 109 µs per loop (mean ± std. dev. of 7 runs, 1000 loops each)\n"
     ]
    }
   ],
   "source": [
    "%timeit df_pd.rolling(5).mean()"
   ]
  },
  {
   "cell_type": "markdown",
   "metadata": {},
   "source": [
    "Vaexには`rolling`に相当する関数がなさそうなので、`groupby`メソッドで代用します。"
   ]
  },
  {
   "cell_type": "code",
   "execution_count": 5,
   "metadata": {},
   "outputs": [
    {
     "name": "stdout",
     "output_type": "stream",
     "text": [
      "18.7 ms ± 4.74 ms per loop (mean ± std. dev. of 7 runs, 100 loops each)\n"
     ]
    }
   ],
   "source": [
    "%timeit df_vaex.groupby(vaex.BinnerTime(df_vaex[\"t\"], \"5D\")).agg({\"y\": \"mean\"})"
   ]
  },
  {
   "cell_type": "markdown",
   "metadata": {},
   "source": [
    "1000倍速くなるどころか、10倍遅くなってますね...このケースでは関係ないかもしれませんが、ファイルに書き出したほうがメモリの負担が少ないらしいので、HDF5にから読み込んで実行してみます。"
   ]
  },
  {
   "cell_type": "code",
   "execution_count": 6,
   "metadata": {},
   "outputs": [],
   "source": [
    "df_vaex.export_hdf5(\"price.hdf5\")\n",
    "df_vaex_hdf5 = vaex.open(\"price.hdf5\")"
   ]
  },
  {
   "cell_type": "code",
   "execution_count": 7,
   "metadata": {},
   "outputs": [
    {
     "name": "stdout",
     "output_type": "stream",
     "text": [
      "18.9 ms ± 5.12 ms per loop (mean ± std. dev. of 7 runs, 100 loops each)\n"
     ]
    }
   ],
   "source": [
    "%timeit df_vaex_hdf5.groupby(vaex.BinnerTime(df_vaex_hdf5[\"t\"], \"5D\")).agg({\"y\": \"mean\"})"
   ]
  },
  {
   "cell_type": "markdown",
   "metadata": {},
   "source": [
    "この程度のデータ量だと、あまり意味がないかもしれません。  \n",
    "文字列の処理などは高速化するようですが、datetime型のデータがどこまで高速化されるかはよくわかってません。 \n",
    "\n",
    "当たり前ですが、pandasのほうが機能が豊富であり。同じことをOut-of-Core処理したいのであれば[Dask](https://dask.org)を使うのがよさそうです。\n",
    "\n",
    "[Vaexは公式ドキュメントのAPIリファレンス](https://vaex.readthedocs.io/en/latest/api.html)が不十分で、今回の時系列データのリサンプル方法を見つけるのも大変でした（週や月などの決まった期間は載っていました）。今後に期待したいところです。"
   ]
  }
 ],
 "metadata": {
  "kernelspec": {
   "display_name": "Python 3",
   "language": "python",
   "name": "python3"
  },
  "miyadaiku": {
   "date": "2019-12-11",
   "tags": [
    "pandas",
    "vaex"
   ],
   "title": "Vaexで移動平均を計算"
  }
 },
 "nbformat": 4,
 "nbformat_minor": 2
}
